{
  "nbformat": 4,
  "nbformat_minor": 0,
  "metadata": {
    "colab": {
      "name": "Copy of Lab2 -10 heuristics.ipynb",
      "provenance": [],
      "collapsed_sections": [],
      "include_colab_link": true
    },
    "kernelspec": {
      "name": "python3",
      "display_name": "Python 3"
    }
  },
  "cells": [
    {
      "cell_type": "markdown",
      "metadata": {
        "id": "view-in-github",
        "colab_type": "text"
      },
      "source": [
        "<a href=\"https://colab.research.google.com/github/dripjutsu/Lab_2/blob/master/Lab2_10_heuristics.ipynb\" target=\"_parent\"><img src=\"https://colab.research.google.com/assets/colab-badge.svg\" alt=\"Open In Colab\"/></a>"
      ]
    },
    {
      "cell_type": "markdown",
      "metadata": {
        "id": "o-tNR8Y-9guY",
        "colab_type": "text"
      },
      "source": [
        ""
      ]
    },
    {
      "cell_type": "markdown",
      "metadata": {
        "id": "6JgrRYtyWUTc",
        "colab_type": "text"
      },
      "source": [
        "# Ten Usability Heuristics\n",
        "\n",
        "### Developed by Jakob Nielsen"
      ]
    },
    {
      "cell_type": "markdown",
      "metadata": {
        "id": "ep30Q_iPWdnT",
        "colab_type": "text"
      },
      "source": [
        "For our lab, we will be evaluating the ten heuristics using the following webpage: \n",
        "\n",
        "- https://www.youtube.com/"
      ]
    },
    {
      "cell_type": "markdown",
      "metadata": {
        "id": "p1w1Wmt5WuFD",
        "colab_type": "text"
      },
      "source": [
        "### Visibility of system status\n",
        "![picture](https://raw.githubusercontent.com/dripjutsu/Lab_2/master/img/H1.png)\n",
        "\n",
        "This system does well with keeping users aware of system status. For example, when the user hovers the cursor above page elements, the elements change color, face, or display text to notify the user the element is clickable. Furthermore, when a user performs an action that requires the system time to compute, a loading bar appears at the top of the page to notify the user that their action is currently processing. Last but not least, when a video is buffering, the video drops transparency value and a loading animation appears in the middle of the video to let the user know that the video is loading."
      ]
    },
    {
      "cell_type": "markdown",
      "metadata": {
        "id": "gL-x1q02W1Vk",
        "colab_type": "text"
      },
      "source": [
        "### Match between system and the real world\n",
        "![h2](https://raw.githubusercontent.com/dripjutsu/Lab_2/master/img/H2.png)\n",
        "\n",
        "The Youtube website makes use of concepts that are widely familiar to improve user experience. For instance, Youtube uses the word \"channel\" to represent a group of videos created by an account. This is very similar to the usage of channels on television, which is widely known nowadays. Moreover, the settings icon is represented as a gear. The gear icon is used extensively across user interfaces as an icon for settings."
      ]
    },
    {
      "cell_type": "markdown",
      "metadata": {
        "id": "p9WB5-rtZd9I",
        "colab_type": "text"
      },
      "source": [
        "### User control and freedom\n",
        "Users often choose system functions by mistake and will need a clearly marked \"emergency exit\" to leave the unwanted state without having to go through an extended dialogue. Support undo and redo.\n",
        "\n",
        "![h3](https://raw.githubusercontent.com/dripjutsu/Lab_2/master/img/H3.png)\n",
        "\n",
        "This site adheres to the user control and freedom heuristics. While watching a video, the user has the ability to undo or redo video size changes, using the buttons on the bottom right of the video. Another example, if a user accidentally opened a lengthy reply thread from a comment, he/she can choose to collapse the thread with one click."
      ]
    },
    {
      "cell_type": "markdown",
      "metadata": {
        "id": "lX7j0pZ8Zedg",
        "colab_type": "text"
      },
      "source": [
        "### Consistency and standards\n",
        "\n",
        "![h4](https://raw.githubusercontent.com/dripjutsu/Lab_2/master/img/H4.png)\n",
        "\n",
        "Youtube adheres to this usability heuristic in various ways. For instance, the color scheme throughout the entire website is consistent: white, black, red, and shades of grey. Furthermore, an active tab on the sidebar takes on a grey color and has its associated icon color changed to red. The same design consistency applies to the filters buttons below the search bar."
      ]
    },
    {
      "cell_type": "markdown",
      "metadata": {
        "id": "ER6ArHdmZfSI",
        "colab_type": "text"
      },
      "source": [
        "### Error prevention\n",
        "![pic](https://raw.githubusercontent.com/dripjutsu/Lab_2/master/img/h5.png)\n",
        "\n",
        "As you can see from this example, Youtube has implemented error prevention in its user interface. After I tried to unsubscribe to an already subscribed channel, a pop-up appeared, prompting me if I would like to unsubscribe from the chosen channel. If this unsubscribe action was done accidentally, the pop-up message will prevent unwanted user action. Thus, this is a prime example of error prevention."
      ]
    },
    {
      "cell_type": "markdown",
      "metadata": {
        "id": "9M3cqXkLZf7B",
        "colab_type": "text"
      },
      "source": [
        "### Recognition rather than recall"
      ]
    },
    {
      "cell_type": "markdown",
      "metadata": {
        "id": "RFKcqo-rf8Py",
        "colab_type": "text"
      },
      "source": [
        "![Recognition Rather than Recall](https://raw.githubusercontent.com/jjl6096/IST250/master/Images/regonition.png)\n"
      ]
    },
    {
      "cell_type": "markdown",
      "metadata": {
        "id": "v6udd0oMdsGn",
        "colab_type": "text"
      },
      "source": [
        "Recognition is always easier than recall, it gives you more help in remembering information. Recognition gives more cues than recall. With more cues given in the context, the memory retrieval process became easier. YouTube.com adheres to recognition and recall heuristics by the “history” toolbar, which allows users to see past search results."
      ]
    },
    {
      "cell_type": "markdown",
      "metadata": {
        "id": "B4xOtXMWZgfp",
        "colab_type": "text"
      },
      "source": [
        "### Flexibility and efficiency of use "
      ]
    },
    {
      "cell_type": "markdown",
      "metadata": {
        "id": "L1EXYqWggr_-",
        "colab_type": "text"
      },
      "source": [
        "![Flexibility and Efficiency of Use](https://raw.githubusercontent.com/jjl6096/IST250/master/Images/flexibility.png)"
      ]
    },
    {
      "cell_type": "markdown",
      "metadata": {
        "id": "2ZGqqDZzg-zg",
        "colab_type": "text"
      },
      "source": [
        "Flexibility and efficiency process gives people the ability to choose their own method of interaction. The flexibility can helps people be more efficient. It also requires the system to be flexible for experts and friendly to newbies. As shown in the screenshot, YouTube.com offers some “tricks” which gives their user more functionality. If you type “Mulan” it will show you most popular searching result of “Mulan.” If user do not want result of the Disney moive released in 2020. Just type “Mulan -2020”, it will automaticlly limit the irrevalent results for expert users. "
      ]
    },
    {
      "cell_type": "markdown",
      "metadata": {
        "id": "F968s-f-ZhGA",
        "colab_type": "text"
      },
      "source": [
        "### Aesthetic and minimalist design"
      ]
    },
    {
      "cell_type": "markdown",
      "metadata": {
        "id": "UsQMI2BxhG9z",
        "colab_type": "text"
      },
      "source": [
        "![Aesthetic and Minimalist Design](https://raw.githubusercontent.com/jjl6096/IST250/master/Images/aesthetic.png)"
      ]
    },
    {
      "cell_type": "markdown",
      "metadata": {
        "id": "f3S1xVtGlMkm",
        "colab_type": "text"
      },
      "source": [
        "The Aesthetic and minimalist design requires the website to remove al unneeded content on a webpage. Communicate rather than decorate is the primary goal for this heuristic. YouTube.com had a great design for their “Home page”, the web page is full of useful information. I did not find any graph, chart, or sign placed just for decoration. Even the sign of YouTube is useful, by clicking on it it will lead you to the home page of YouTube.com.\n"
      ]
    },
    {
      "cell_type": "markdown",
      "metadata": {
        "id": "WFtkqJ8wZhjx",
        "colab_type": "text"
      },
      "source": [
        "### Help users recognize, diagnose, and recover from errors"
      ]
    },
    {
      "cell_type": "markdown",
      "metadata": {
        "id": "1WtK0njEhbk1",
        "colab_type": "text"
      },
      "source": [
        "![Help users recognize, disgnose, and recover from errors](https://raw.githubusercontent.com/jjl6096/IST250/master/Images/error.png)"
      ]
    },
    {
      "cell_type": "markdown",
      "metadata": {
        "id": "bifFmvniludS",
        "colab_type": "text"
      },
      "source": [
        "YouTube clearly informs users when the error has occurred. It includes both visual and text messages to warn users. For example, when users register for YouTube Premium without complete information. The system shows warnings to users by red marking the incomplete section and phrases such as “Card number required, expiration date required and Security code is required.”"
      ]
    },
    {
      "cell_type": "markdown",
      "metadata": {
        "id": "x8_uAFYHZifo",
        "colab_type": "text"
      },
      "source": [
        "### Help and documentation"
      ]
    },
    {
      "cell_type": "markdown",
      "metadata": {
        "id": "lsRPQdLdiBpP",
        "colab_type": "text"
      },
      "source": [
        "![Help users recognize, disgnose, and recover from errors](https://raw.githubusercontent.com/jjl6096/IST250/master/Images/help.png)"
      ]
    },
    {
      "cell_type": "markdown",
      "metadata": {
        "id": "i65JzP9hlvRp",
        "colab_type": "text"
      },
      "source": [
        "Help and documentation is essential as one of the 10 heuristics. Help Center is available on YouTube.com, popular help resources are provided in the help section. It does not have a word limit for the search bar. Also, the search results were easy to search, focused on the user’s task and all results list concrete steps to be followed. "
      ]
    }
  ]
}